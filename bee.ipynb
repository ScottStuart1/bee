{
 "cells": [
  {
   "cell_type": "code",
   "execution_count": 10,
   "id": "0301f298",
   "metadata": {},
   "outputs": [],
   "source": [
    "from bee import johnson, get_table\n",
    "df, twoltr = get_table()\n"
   ]
  },
  {
   "cell_type": "code",
   "execution_count": 15,
   "id": "88ea410d",
   "metadata": {},
   "outputs": [
    {
     "name": "stdout",
     "output_type": "stream",
     "text": [
      "+----+-----+-----+-----+-----+------+------------+\n",
      "|    | 5   |   6 | 7   | 8   | 10   | Two_Ltr    |\n",
      "+====+=====+=====+=====+=====+======+============+\n",
      "| A  |     |   2 | 1   |     | 1    | AR2 AT2    |\n",
      "+----+-----+-----+-----+-----+------+------------+\n",
      "| C  | 3   |   1 | 4   | 1   |      | CA4 CI4 CU |\n",
      "+----+-----+-----+-----+-----+------+------------+\n",
      "| N  |     |   2 |     |     |      | NI2        |\n",
      "+----+-----+-----+-----+-----+------+------------+\n",
      "| T  | 1   |   1 | 2   |     |      | TA2 TI TR  |\n",
      "+----+-----+-----+-----+-----+------+------------+\n"
     ]
    }
   ],
   "source": [
    "words = \"\"\"\\\n",
    "Acacia\n",
    "Acai\n",
    "Antarctic\n",
    "Antic\n",
    "Arctic\n",
    "Attic\n",
    "Cairn\n",
    "Cancan\n",
    "Canna\n",
    "Cant\n",
    "Carat\n",
    "Cart\n",
    "Crania\n",
    "Critic\n",
    "Curt\n",
    "Curtain\n",
    "Incant\n",
    "Incur\n",
    "Intact\n",
    "Narc\n",
    "Ricin\n",
    "Runic\n",
    "Tacit\n",
    "Taciturn\n",
    "Tact\n",
    "Tactic\n",
    "Tactician\n",
    "Tinct\n",
    "Tunic\n",
    "Uncut\n",
    "Uric\n",
    "\"\"\"\n",
    "\n",
    "df = johnson(words, df, twoltr)"
   ]
  },
  {
   "cell_type": "code",
   "execution_count": null,
   "id": "dcd6df71",
   "metadata": {},
   "outputs": [],
   "source": []
  },
  {
   "cell_type": "code",
   "execution_count": null,
   "id": "136192b9",
   "metadata": {},
   "outputs": [],
   "source": []
  },
  {
   "cell_type": "code",
   "execution_count": null,
   "id": "ab767f90",
   "metadata": {},
   "outputs": [],
   "source": []
  },
  {
   "cell_type": "code",
   "execution_count": null,
   "id": "37d7c615",
   "metadata": {},
   "outputs": [],
   "source": []
  }
 ],
 "metadata": {
  "kernelspec": {
   "display_name": "Python 3 (ipykernel)",
   "language": "python",
   "name": "python3"
  },
  "language_info": {
   "codemirror_mode": {
    "name": "ipython",
    "version": 3
   },
   "file_extension": ".py",
   "mimetype": "text/x-python",
   "name": "python",
   "nbconvert_exporter": "python",
   "pygments_lexer": "ipython3",
   "version": "3.9.13"
  }
 },
 "nbformat": 4,
 "nbformat_minor": 5
}
