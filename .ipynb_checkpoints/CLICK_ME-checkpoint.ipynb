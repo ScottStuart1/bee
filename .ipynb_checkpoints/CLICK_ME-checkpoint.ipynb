{
 "cells": [
  {
   "cell_type": "raw",
   "id": "55e97484",
   "metadata": {},
   "source": [
    "---\n",
    "title: CLICK_ME\n",
    "description: for leslie!\n",
    "show-code: True\n",
    "params:\n",
    "    words:\n",
    "        input: text\n",
    "---"
   ]
  },
  {
   "cell_type": "code",
   "execution_count": 1,
   "id": "bd354c29",
   "metadata": {},
   "outputs": [
    {
     "data": {
      "application/mercury+json": "{\n    \"widget\": \"App\",\n    \"title\": \"\",\n    \"description\": \"\",\n    \"show_code\": true,\n    \"show_prompt\": false,\n    \"share\": \"public\",\n    \"output\": \"app\",\n    \"schedule\": \"\",\n    \"notify\": \"{}\",\n    \"continuous_update\": true,\n    \"static_notebook\": false,\n    \"show_sidebar\": true,\n    \"full_screen\": true,\n    \"allow_download\": true,\n    \"model_id\": \"mercury-app\",\n    \"code_uid\": \"App.0.41.25.10.2-rand6e39eba6\"\n}",
      "text/html": [
       "<h3>Mercury Application</h3><small>This output won't appear in the web app.</small>"
      ],
      "text/plain": [
       "mercury.App"
      ]
     },
     "metadata": {},
     "output_type": "display_data"
    },
    {
     "data": {
      "application/mercury+json": "{\n    \"widget\": \"Text\",\n    \"value\": \"\",\n    \"rows\": 1,\n    \"label\": \"\",\n    \"model_id\": \"f7962652d4a2426f82c1b0be8a6bd97e\",\n    \"code_uid\": \"Text.0.41.13.13.2-rand91bb8591\"\n}",
      "application/vnd.jupyter.widget-view+json": {
       "model_id": "f7962652d4a2426f82c1b0be8a6bd97e",
       "version_major": 2,
       "version_minor": 0
      },
      "text/plain": [
       "mercury.Text"
      ]
     },
     "metadata": {},
     "output_type": "display_data"
    }
   ],
   "source": [
    "from bee import run_function\n",
    "grid = run_function()"
   ]
  },
  {
   "cell_type": "code",
   "execution_count": 2,
   "id": "94bcd25e",
   "metadata": {},
   "outputs": [
    {
     "name": "stdout",
     "output_type": "stream",
     "text": [
      "+----+-----+-----+-----+-----+-----+-------------+\n",
      "|    |   4 | 5   | 6   | 7   | 8   | Two_Ltr     |\n",
      "+====+=====+=====+=====+=====+=====+=============+\n",
      "| A  |   1 | 3   | 1   |     |     | AG AM AN3   |\n",
      "+----+-----+-----+-----+-----+-----+-------------+\n",
      "| G  |   3 | 2   |     |     |     | GA GO4      |\n",
      "+----+-----+-----+-----+-----+-----+-------------+\n",
      "| H  |   2 | 1   |     | 2   | 1   | HA2 HO3 HY  |\n",
      "+----+-----+-----+-----+-----+-----+-------------+\n",
      "| M  |   5 | 6   | 1   | 1   | 2   | MA7 MO6 MY2 |\n",
      "+----+-----+-----+-----+-----+-----+-------------+\n",
      "| N  |   3 | 2   |     | 1   |     | NA4 NO2     |\n",
      "+----+-----+-----+-----+-----+-----+-------------+\n",
      "| Y  |   1 |     |     |     |     | YA          |\n",
      "+----+-----+-----+-----+-----+-----+-------------+\n"
     ]
    }
   ],
   "source": [
    "print(grid)"
   ]
  },
  {
   "cell_type": "markdown",
   "id": "3fadfe38",
   "metadata": {},
   "source": [
    "# Hi Momma!\n",
    "### 1. Click the play button above^\n",
    "#### 2. go to the bee page and click Command + A then Command + C\n",
    "#### 3. click into the input below and click Command + V then press enter!"
   ]
  }
 ],
 "metadata": {
  "kernelspec": {
   "display_name": "Python 3 (ipykernel)",
   "language": "python",
   "name": "python3"
  },
  "language_info": {
   "codemirror_mode": {
    "name": "ipython",
    "version": 3
   },
   "file_extension": ".py",
   "mimetype": "text/x-python",
   "name": "python",
   "nbconvert_exporter": "python",
   "pygments_lexer": "ipython3",
   "version": "3.9.13"
  }
 },
 "nbformat": 4,
 "nbformat_minor": 5
}
