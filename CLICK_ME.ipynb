{
 "cells": [
  {
   "cell_type": "code",
   "execution_count": 4,
   "id": "bd354c29",
   "metadata": {},
   "outputs": [
    {
     "data": {
      "application/mercury+json": "{\n    \"widget\": \"Text\",\n    \"value\": \"\",\n    \"rows\": 1,\n    \"label\": \"\",\n    \"model_id\": \"f95f7314093e4b4cb8d3d50388e0760d\",\n    \"code_uid\": \"Text.0.41.13.12.2-rand7d993117\"\n}",
      "application/vnd.jupyter.widget-view+json": {
       "model_id": "f95f7314093e4b4cb8d3d50388e0760d",
       "version_major": 2,
       "version_minor": 0
      },
      "text/plain": [
       "mercury.Text"
      ]
     },
     "metadata": {},
     "output_type": "display_data"
    }
   ],
   "source": [
    "from bee import run_function\n",
    "run_function()"
   ]
  },
  {
   "cell_type": "markdown",
   "id": "3fadfe38",
   "metadata": {},
   "source": [
    "# Hi Momma!\n",
    "### 1. Click the play button above^\n",
    "#### 2. go to the bee page and click Command + A then Command + C\n",
    "#### 3. click into the input below and click Command + V then press enter!"
   ]
  }
 ],
 "metadata": {
  "kernelspec": {
   "display_name": "Python 3 (ipykernel)",
   "language": "python",
   "name": "python3"
  },
  "language_info": {
   "codemirror_mode": {
    "name": "ipython",
    "version": 3
   },
   "file_extension": ".py",
   "mimetype": "text/x-python",
   "name": "python",
   "nbconvert_exporter": "python",
   "pygments_lexer": "ipython3",
   "version": "3.9.13"
  }
 },
 "nbformat": 4,
 "nbformat_minor": 5
}
