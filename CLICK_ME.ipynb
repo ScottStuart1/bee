{
 "cells": [
  {
   "cell_type": "code",
   "execution_count": null,
   "id": "bd354c29",
   "metadata": {},
   "outputs": [
    {
     "name": "stdout",
     "output_type": "stream",
     "text": [
      "+----+-----+-----+-----+-----------+\n",
      "|    | 6   |   7 | 8   | Two_Ltr   |\n",
      "+====+=====+=====+=====+===========+\n",
      "| H  |     |   1 | 1   | HO2       |\n",
      "+----+-----+-----+-----+-----------+\n",
      "| M  | 1   |   1 | 1   | MA MO2    |\n",
      "+----+-----+-----+-----+-----------+\n",
      "| N  |     |   1 |     | NO        |\n",
      "+----+-----+-----+-----+-----------+\n"
     ]
    }
   ],
   "source": [
    "from bee import run_function\n",
    "run_function()"
   ]
  },
  {
   "cell_type": "markdown",
   "id": "3fadfe38",
   "metadata": {},
   "source": [
    "# Hi Momma!\n",
    "### 1. Click the play button above^\n",
    "#### 2. go to the bee page and click Command + A then Command + C\n",
    "#### 3. click into the input below and click Command + V then press enter!"
   ]
  }
 ],
 "metadata": {
  "kernelspec": {
   "display_name": "Python 3 (ipykernel)",
   "language": "python",
   "name": "python3"
  },
  "language_info": {
   "codemirror_mode": {
    "name": "ipython",
    "version": 3
   },
   "file_extension": ".py",
   "mimetype": "text/x-python",
   "name": "python",
   "nbconvert_exporter": "python",
   "pygments_lexer": "ipython3",
   "version": "3.9.13"
  }
 },
 "nbformat": 4,
 "nbformat_minor": 5
}
