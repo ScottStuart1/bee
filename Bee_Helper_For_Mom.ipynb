{
 "cells": [
  {
   "cell_type": "markdown",
   "id": "322148ad",
   "metadata": {},
   "source": [
    "# Hi Momma!\n",
    "### Input list of words below:"
   ]
  },
  {
   "cell_type": "code",
   "execution_count": null,
   "id": "ad19422a",
   "metadata": {},
   "outputs": [
    {
     "name": "stdout",
     "output_type": "stream",
     "text": [
      "+----+-----+-----+-----+------+-----------+\n",
      "|    | 6   | 7   | 8   | 10   | Two_Ltr   |\n",
      "+====+=====+=====+=====+======+===========+\n",
      "| M  | 1   |     |     | 1    | ME MI     |\n",
      "+----+-----+-----+-----+------+-----------+\n",
      "| T  | 1   | 1   | 1   |      | TE2 TI    |\n",
      "+----+-----+-----+-----+------+-----------+\n",
      "| Z  |     | 1   |     |      | ZI        |\n",
      "+----+-----+-----+-----+------+-----------+\n"
     ]
    }
   ],
   "source": [
    "from bee import johnson, get_table\n",
    "if 'df' not in locals() and 'twoltr' not in locals():\n",
    "    df, twoltr = get_table()\n",
    "\n",
    "while(True):\n",
    "    df = johnson(df, twoltr, False)"
   ]
  }
 ],
 "metadata": {
  "kernelspec": {
   "display_name": "Python 3 (ipykernel)",
   "language": "python",
   "name": "python3"
  },
  "language_info": {
   "codemirror_mode": {
    "name": "ipython",
    "version": 3
   },
   "file_extension": ".py",
   "mimetype": "text/x-python",
   "name": "python",
   "nbconvert_exporter": "python",
   "pygments_lexer": "ipython3",
   "version": "3.9.13"
  }
 },
 "nbformat": 4,
 "nbformat_minor": 5
}
